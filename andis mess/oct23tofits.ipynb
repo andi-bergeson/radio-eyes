{
 "cells": [
  {
   "cell_type": "code",
   "execution_count": 9,
   "metadata": {
    "collapsed": true
   },
   "outputs": [],
   "source": [
    "import astropy \n",
    "from astropy.io import fits\n",
    "import numpy as np\n",
    "\n",
    "\n",
    "def pixelate(ra_zoom, dec_zoom, n_bins, ra_overall, dec_overall, eye_overall, flux_overall):\n",
    "\n",
    "\n",
    "#Check to see which dimension is larger so that a square in ra,dec can \n",
    "#be returned\n",
    "    if (ra_zoom[1]-ra_zoom[0]) > (dec_zoom[1]-dec_zoom[0]):\n",
    "        zoom = ra_zoom\n",
    "    else:\n",
    "        zoom = dec_zoom\n",
    "\n",
    "    #Find the size of the bins using the largest dimension and the num of bins\n",
    "    binsize = (zoom[1]-zoom[0])/n_bins\n",
    "\n",
    "    #Create arrays for ra and dec that give the left side of each pixel\n",
    "    ra_bin_array = np.multiply(range(n_bins), binsize) + ra_zoom[0]\n",
    "    dec_bin_array = np.multiply(range(n_bins), binsize) + dec_zoom[0]\n",
    "\n",
    "    #Create an empty array of pixels to be filled in the for loops\n",
    "    pixels = np.zeros((len(ra_bin_array),len(dec_bin_array)))\n",
    "\n",
    "    #Histogram components into ra bins\n",
    "    ra_histogram = np.digitize(ra_overall,ra_bin_array)\n",
    "\n",
    "    #Begin for loop over both dimensions of pixels, starting with ra\n",
    "    for bin_i in range(len(ra_bin_array) - 2):\n",
    "\n",
    "        #Find the indices that fall into the current ra bin slice\n",
    "        ra_inds = np.where(ra_histogram == bin_i)\n",
    "\n",
    "        #Go to next for cycle if no indices fall into current ra bin slice\n",
    "        if len(ra_inds) == 0:\n",
    "            continue\n",
    "\n",
    "        #Histogram components that fall into the current ra bin slice by dec\n",
    "        dec_histogram = np.digitize(dec_overall[ra_inds],dec_bin_array)\n",
    "\n",
    "        #Begin for loop by dec over ra bin slice\n",
    "        for bin_j in range(len(dec_bin_array) -2):\n",
    "\n",
    "        #Find the indicies that fall into the current dec bin\n",
    "            dec_inds = np.where(dec_histogram == bin_j)\n",
    "\n",
    "        #Go to next for cycle if no indices fall into current dec bin\t\t\t\n",
    "            if len(dec_inds) == 0:\n",
    "                continue\n",
    "\n",
    "            #Sum the flux components that fall into current ra/dec bin\n",
    "            pixels[bin_i,bin_j] = np.sum(flux_overall[(ra_inds[0])[dec_inds[0]]])\n",
    "\n",
    "    #Find the pixel centers in ra/dec for plotting purposes\n",
    "    ra_pixel_centers = np.multiply(range(n_bins), binsize) + ra_zoom[0] + binsize/2.\n",
    "    dec_pixel_centers = np.multiply(range(n_bins), binsize) + dec_zoom[0] + binsize/2.\n",
    "\n",
    "    return pixels, ra_pixel_centers, dec_pixel_centers"
   ]
  },
  {
   "cell_type": "code",
   "execution_count": 10,
   "metadata": {
    "collapsed": true
   },
   "outputs": [],
   "source": [
    "#This opened the file with the gps seconds and assigned them to a variable\n",
    "oct23_obsids_file = open('/astro/users/bergea4/radio-eyes/Oct23_obsids.txt', 'r')\n",
    "#This read every name sequentially, took out white space, and put the file into an array called aug23\n",
    "oct23 = [line.split( ) for line in oct23_obsids_file.readlines()]\n",
    "\n",
    "#This is a general code to go through each fits file, and then compacted everything into a single numpy array\n",
    "for i in oct23:\n",
    "    filename = '/astro/users/bergea4/Documents/Oct23_high_EoR1/' + i[0] + '_highEoR1.fits'\n",
    "    #header dater unit list- package from astropy to open file\n",
    "    hdu_list = fits.open(filename)\n",
    "    #pulls out actual data from hdu\n",
    "    data = hdu_list[1].data[0]\n",
    "    #id random interger\n",
    "    eye = data[0]\n",
    "    #declanation random interger\n",
    "    dec = data[1]\n",
    "    #right ascension of the component\n",
    "    ra = data[2]\n",
    "    #the flux density of the component woooo\n",
    "    flux = data[3]\n",
    "    #Given the array ra, execute the condition if an element is greater than 180. Reset that element to that \n",
    "    #element minus 360.\n",
    "    #This only works on numpy arrays\n",
    "    ra[ra>180] -= 360\n",
    "    #This loops through the elements of the first fits file and sets them equal to an overall variable\n",
    "    #Had to rename them because original variable names get overwritten\n",
    "    if oct23[0] == i:\n",
    "        ra_overall = ra\n",
    "        dec_overall = dec\n",
    "        eye_overall = eye\n",
    "        flux_overall = flux\n",
    "    #for all else, it appends to the new variable to make a REALLY BIG ARRAY OF EVERYTHING EVER\n",
    "    else:\n",
    "        ra_overall = np.append(ra_overall, ra)\n",
    "        dec_overall = np.append(dec_overall, dec)\n",
    "        eye_overall = np.append(eye_overall, eye)\n",
    "        flux_overall = np.append(flux_overall, flux)"
   ]
  },
  {
   "cell_type": "code",
   "execution_count": 11,
   "metadata": {
    "collapsed": true
   },
   "outputs": [],
   "source": [
    "ra_zoom = [49.5, 52]\n",
    "dec_zoom = [-38, -39]\n",
    "n_bins = 165"
   ]
  },
  {
   "cell_type": "code",
   "execution_count": 12,
   "metadata": {
    "collapsed": true
   },
   "outputs": [],
   "source": [
    "\n",
    "#this takes a while to run so we're keeping it separate from the plotting cell so we only have to run it once\n",
    "(pixels, ra_pixel_centers, dec_pixel_centers) = pixelate(ra_zoom, dec_zoom, n_bins, ra_overall, dec_overall, eye_overall, flux_overall)\n"
   ]
  },
  {
   "cell_type": "code",
   "execution_count": 6,
   "metadata": {
    "collapsed": false
   },
   "outputs": [],
   "source": [
    "n_obs = len(oct23) \n",
    "#for comparison pictures\n",
    "pixels2 = pixels / n_obs"
   ]
  },
  {
   "cell_type": "code",
   "execution_count": 8,
   "metadata": {
    "collapsed": true
   },
   "outputs": [],
   "source": [
    "from astropy.io import fits \n",
    "fits.writeto(\"oct23.fits\", pixels, clobber = True)"
   ]
  },
  {
   "cell_type": "code",
   "execution_count": null,
   "metadata": {
    "collapsed": true
   },
   "outputs": [],
   "source": []
  }
 ],
 "metadata": {
  "kernelspec": {
   "display_name": "Python 3",
   "language": "python",
   "name": "python3"
  },
  "language_info": {
   "codemirror_mode": {
    "name": "ipython",
    "version": 3
   },
   "file_extension": ".py",
   "mimetype": "text/x-python",
   "name": "python",
   "nbconvert_exporter": "python",
   "pygments_lexer": "ipython3",
   "version": "3.5.2"
  }
 },
 "nbformat": 4,
 "nbformat_minor": 0
}
