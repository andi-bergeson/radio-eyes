{
 "cells": [
  {
   "cell_type": "code",
   "execution_count": 1,
   "metadata": {},
   "outputs": [],
   "source": [
    "import sys"
   ]
  },
  {
   "cell_type": "code",
   "execution_count": 2,
   "metadata": {},
   "outputs": [
    {
     "name": "stdout",
     "output_type": "stream",
     "text": [
      "Solving environment: done\n",
      "\n",
      "## Package Plan ##\n",
      "\n",
      "  environment location: /anaconda3\n",
      "\n",
      "  added / updated specs: \n",
      "    - astropy\n",
      "\n",
      "\n",
      "The following packages will be downloaded:\n",
      "\n",
      "    package                    |            build\n",
      "    ---------------------------|-----------------\n",
      "    conda-4.5.9                |           py36_0         1.0 MB\n",
      "\n",
      "The following packages will be UPDATED:\n",
      "\n",
      "    conda: 4.5.4-py36_0 --> 4.5.9-py36_0\n",
      "\n",
      "\n",
      "Downloading and Extracting Packages\n",
      "conda-4.5.9          |  1.0 MB | ####################################### | 100% \n",
      "Preparing transaction: done\n",
      "Verifying transaction: done\n",
      "Executing transaction: done\n"
     ]
    }
   ],
   "source": [
    "!conda install --yes --prefix {sys.prefix} astropy"
   ]
  },
  {
   "cell_type": "code",
   "execution_count": 9,
   "metadata": {},
   "outputs": [],
   "source": [
    "from astropy.io import fits"
   ]
  },
  {
   "cell_type": "code",
   "execution_count": 4,
   "metadata": {},
   "outputs": [],
   "source": [
    "aug23_obsids_file = open('/Users/lisa/Documents/internship/radio-eyes/Aug23_obsids.txt', 'r')"
   ]
  },
  {
   "cell_type": "code",
   "execution_count": 5,
   "metadata": {},
   "outputs": [],
   "source": [
    "aug23 = [line.split( ) for line in aug23_obsids_file.readlines()]"
   ]
  },
  {
   "cell_type": "code",
   "execution_count": 6,
   "metadata": {},
   "outputs": [
    {
     "name": "stdout",
     "output_type": "stream",
     "text": [
      "[['1061311664'], ['1061311784'], ['1061311904'], ['1061312032'], ['1061312152'], ['1061312272'], ['1061312392'], ['1061312520'], ['1061312640'], ['1061312760'], ['1061312880'], ['1061313008'], ['1061313128'], ['1061313248'], ['1061313368'], ['1061313496'], ['1061313616'], ['1061313736'], ['1061313856'], ['1061313984'], ['1061314104'], ['1061314224'], ['1061314344'], ['1061314472'], ['1061314592'], ['1061314712'], ['1061314832'], ['1061314960'], ['1061315080'], ['1061315200'], ['1061315320'], ['1061315448'], ['1061315568'], ['1061315688'], ['1061315808'], ['1061315936'], ['1061316056'], ['1061316176'], ['1061316296'], ['1061316424'], ['1061316544'], ['1061316664'], ['1061316784'], ['1061316912'], ['1061317032'], ['1061317152'], ['1061317272'], ['1061317400'], ['1061317520'], ['1061317640'], ['1061317760'], ['1061317888'], ['1061318008'], ['1061318128'], ['1061318248'], ['1061318376'], ['1061318496'], ['1061318616'], ['1061318736'], ['1061318864'], ['1061318984'], ['1061319104'], ['1061319224'], ['1061319352'], ['1061319472'], ['1061319592'], ['1061319712'], ['1061319840'], ['1061319960'], ['1061320080'], ['1061320200'], ['1061320328'], ['1061320448'], ['1061320568'], ['1061320688'], ['1061320816'], ['1061320936'], ['1061321056'], ['1061321176'], ['1061321304'], ['1061321424'], ['1061321544'], ['1061321664'], ['1061321792'], ['1061321912'], ['1061322032'], ['1061322152'], ['1061322280'], ['1061322400'], ['1061322520'], ['1061322640'], ['1061322768'], ['1061322888'], ['1061323008']]\n"
     ]
    }
   ],
   "source": [
    "print(aug23)"
   ]
  },
  {
   "cell_type": "code",
   "execution_count": 7,
   "metadata": {},
   "outputs": [],
   "source": [
    "file_name = '/Users/lisa/Documents/internship/radio-eyes/1061311664_highEoR0.fits'"
   ]
  },
  {
   "cell_type": "code",
   "execution_count": 10,
   "metadata": {},
   "outputs": [],
   "source": [
    "hdu_list = fits.open(file_name)"
   ]
  },
  {
   "cell_type": "code",
   "execution_count": 12,
   "metadata": {},
   "outputs": [
    {
     "data": {
      "text/plain": [
       "[<astropy.io.fits.hdu.image.PrimaryHDU object at 0x10ec83898>, <astropy.io.fits.hdu.table.BinTableHDU object at 0x10ec83dd8>]"
      ]
     },
     "execution_count": 12,
     "metadata": {},
     "output_type": "execute_result"
    }
   ],
   "source": [
    "hdu_list"
   ]
  },
  {
   "cell_type": "code",
   "execution_count": 13,
   "metadata": {},
   "outputs": [
    {
     "name": "stdout",
     "output_type": "stream",
     "text": [
      "Filename: /Users/lisa/Documents/internship/radio-eyes/1061311664_highEoR0.fits\n",
      "No.    Name      Ver    Type      Cards   Dimensions   Format\n",
      "  0  PRIMARY       1 PrimaryHDU       4   ()      \n",
      "  1                1 BinTableHDU     26   1R x 4C   [169906J, 169906E, 169906E, 169906E]   \n"
     ]
    }
   ],
   "source": [
    "hdu_list.info()"
   ]
  },
  {
   "cell_type": "code",
   "execution_count": 14,
   "metadata": {},
   "outputs": [
    {
     "data": {
      "text/plain": [
       "<astropy.io.fits.hdu.image.PrimaryHDU at 0x10ec83898>"
      ]
     },
     "execution_count": 14,
     "metadata": {},
     "output_type": "execute_result"
    }
   ],
   "source": [
    "hdu_list[0]"
   ]
  },
  {
   "cell_type": "code",
   "execution_count": 15,
   "metadata": {},
   "outputs": [
    {
     "data": {
      "text/plain": [
       "SIMPLE  =                    T /Dummy Created by MWRFITS v1.11b                 \n",
       "BITPIX  =                    8 /Dummy primary header created by MWRFITS         \n",
       "NAXIS   =                    0 /No data is associated with this header          \n",
       "EXTEND  =                    T /Extensions may (will!) be present               "
      ]
     },
     "execution_count": 15,
     "metadata": {},
     "output_type": "execute_result"
    }
   ],
   "source": [
    "hdu_list[0].header"
   ]
  },
  {
   "cell_type": "code",
   "execution_count": 16,
   "metadata": {},
   "outputs": [
    {
     "data": {
      "text/plain": [
       "XTENSION= 'BINTABLE'           /Binary table written by MWRFITS v1.11b          \n",
       "BITPIX  =                    8 /Required value                                  \n",
       "NAXIS   =                    2 /Required value                                  \n",
       "NAXIS1  =              2718496 /Number of bytes per row                         \n",
       "NAXIS2  =                    1 /Number of rows                                  \n",
       "PCOUNT  =                    0 /Normally 0 (no varying arrays)                  \n",
       "GCOUNT  =                    1 /Required value                                  \n",
       "TFIELDS =                    4 /Number of columns in table                      \n",
       "COMMENT                                                                         \n",
       "COMMENT  *** End of mandatory fields ***                                        \n",
       "COMMENT                                                                         \n",
       "COMMENT                                                                         \n",
       "COMMENT  *** Column names ***                                                   \n",
       "COMMENT                                                                         \n",
       "TTYPE1  = 'ID      '           /                                                \n",
       "TTYPE2  = 'DECLINATION'        /                                                \n",
       "TTYPE3  = 'RIGHTASCENSION'     /                                                \n",
       "TTYPE4  = 'FLUXI   '           /                                                \n",
       "COMMENT                                                                         \n",
       "COMMENT  *** Column formats ***                                                 \n",
       "COMMENT                                                                         \n",
       "TFORM1  = '169906J '           /                                                \n",
       "TFORM2  = '169906E '           /                                                \n",
       "TFORM3  = '169906E '           /                                                \n",
       "TFORM4  = '169906E '           /                                                \n",
       "COMMENT    =  Field: EoR0, Date: Aug23,                                         "
      ]
     },
     "execution_count": 16,
     "metadata": {},
     "output_type": "execute_result"
    }
   ],
   "source": [
    "hdu_list[1].header"
   ]
  },
  {
   "cell_type": "code",
   "execution_count": 35,
   "metadata": {},
   "outputs": [],
   "source": [
    "data = hdu_list[1].data[0]"
   ]
  },
  {
   "cell_type": "code",
   "execution_count": 38,
   "metadata": {},
   "outputs": [],
   "source": [
    "eyed = data[0]"
   ]
  },
  {
   "cell_type": "code",
   "execution_count": 39,
   "metadata": {},
   "outputs": [],
   "source": [
    "dec=data[1]"
   ]
  },
  {
   "cell_type": "code",
   "execution_count": 40,
   "metadata": {},
   "outputs": [],
   "source": [
    "ra=data[2]"
   ]
  },
  {
   "cell_type": "code",
   "execution_count": 41,
   "metadata": {},
   "outputs": [],
   "source": [
    "flux=data[3]"
   ]
  },
  {
   "cell_type": "code",
   "execution_count": 42,
   "metadata": {},
   "outputs": [],
   "source": [
    "ra[ra>180] -= 360"
   ]
  },
  {
   "cell_type": "code",
   "execution_count": 43,
   "metadata": {},
   "outputs": [],
   "source": [
    "import matplotlib.pyplot as plt"
   ]
  },
  {
   "cell_type": "code",
   "execution_count": 44,
   "metadata": {},
   "outputs": [],
   "source": [
    "from astropy.io import ascii"
   ]
  },
  {
   "cell_type": "code",
   "execution_count": 54,
   "metadata": {},
   "outputs": [
    {
     "data": {
      "image/png": "[encoded data removed]",
      "text/plain": [
       "<Figure size 432x288 with 1 Axes>"
      ]
     },
     "metadata": {},
     "output_type": "display_data"
    }
   ],
   "source": [
    "plt.scatter(ra, dec,\n",
    "           s = 0.5, color = 'blue', marker= '*')\n",
    "plt.xlabel('RA (degrees)',\n",
    "           fontweight='bold', size=14)\n",
    "plt.ylabel('Declination (degrees)',\n",
    "           fontweight='bold', size=14)\n",
    "plt.title('Field: EoR0 at Frequency 182 MHz')\n",
    "plt.show()"
   ]
  },
  {
   "cell_type": "code",
   "execution_count": null,
   "metadata": {},
   "outputs": [],
   "source": []
  },
  {
   "cell_type": "code",
   "execution_count": null,
   "metadata": {},
   "outputs": [],
   "source": []
  }
 ],
 "metadata": {
  "kernelspec": {
   "display_name": "Python 3",
   "language": "python",
   "name": "python3"
  },
  "language_info": {
   "codemirror_mode": {
    "name": "ipython",
    "version": 3
   },
   "file_extension": ".py",
   "mimetype": "text/x-python",
   "name": "python",
   "nbconvert_exporter": "python",
   "pygments_lexer": "ipython3",
   "version": "3.6.5"
  }
 },
 "nbformat": 4,
 "nbformat_minor": 2
}
