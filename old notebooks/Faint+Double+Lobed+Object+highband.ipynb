{
 "cells": [
  {
   "cell_type": "code",
   "execution_count": 1,
   "metadata": {
    "collapsed": true
   },
   "outputs": [],
   "source": [
    "#11/09/16\n",
    "#Trying to make an array of the obsids to run through the file_name fits call\n",
    "#Importing important stuff\n",
    "import astropy \n",
    "from astropy.io import fits\n",
    "import numpy as np\n",
    "\n",
    "#*****************************************\n",
    "#Module that pixelates and histograms in the range of ra_zoom (right ascention) and\n",
    "#dec_zoom (declination) at the resolution of n_bins. Returns a tuple of \n",
    "#the pixel values (summed flux in that bin), the pixel centers in ra, and the pixel\n",
    "#centers in dec.\n",
    "        \n",
    "def pixelate(ra_zoom, dec_zoom, n_bins, ra_overall, dec_overall, eye_overall, flux_overall):\n",
    "\n",
    "\n",
    "#Check to see which dimension is larger so that a square in ra,dec can \n",
    "#be returned\n",
    "    if (ra_zoom[1]-ra_zoom[0]) > (dec_zoom[1]-dec_zoom[0]):\n",
    "        zoom = ra_zoom\n",
    "    else:\n",
    "        zoom = dec_zoom\n",
    "\n",
    "    #Find the size of the bins using the largest dimension and the num of bins\n",
    "    binsize = (zoom[1]-zoom[0])/n_bins\n",
    "\n",
    "    #Create arrays for ra and dec that give the left side of each pixel\n",
    "    ra_bin_array = np.multiply(range(n_bins), binsize) + ra_zoom[0]\n",
    "    dec_bin_array = np.multiply(range(n_bins), binsize) + dec_zoom[0]\n",
    "\n",
    "    #Create an empty array of pixels to be filled in the for loops\n",
    "    pixels = np.zeros((len(ra_bin_array),len(dec_bin_array)))\n",
    "\n",
    "    #Histogram components into ra bins\n",
    "    ra_histogram = np.digitize(ra_overall,ra_bin_array)\n",
    "\n",
    "    #Begin for loop over both dimensions of pixels, starting with ra\n",
    "    for bin_i in range(len(ra_bin_array) - 2):\n",
    "\n",
    "        #Find the indices that fall into the current ra bin slice\n",
    "        ra_inds = np.where(ra_histogram == bin_i)\n",
    "\n",
    "        #Go to next for cycle if no indices fall into current ra bin slice\n",
    "        if len(ra_inds) == 0:\n",
    "            continue\n",
    "\n",
    "        #Histogram components that fall into the current ra bin slice by dec\n",
    "        dec_histogram = np.digitize(dec_overall[ra_inds],dec_bin_array)\n",
    "\n",
    "        #Begin for loop by dec over ra bin slice\n",
    "        for bin_j in range(len(dec_bin_array) -2):\n",
    "\n",
    "        #Find the indicies that fall into the current dec bin\n",
    "            dec_inds = np.where(dec_histogram == bin_j)\n",
    "\n",
    "        #Go to next for cycle if no indices fall into current dec bin\t\t\t\n",
    "            if len(dec_inds) == 0:\n",
    "                continue\n",
    "\n",
    "            #Sum the flux components that fall into current ra/dec bin\n",
    "            pixels[bin_i,bin_j] = np.sum(flux_overall[(ra_inds[0])[dec_inds[0]]])\n",
    "\n",
    "    #Find the pixel centers in ra/dec for plotting purposes\n",
    "    ra_pixel_centers = np.multiply(range(n_bins), binsize) + ra_zoom[0] + binsize/2.\n",
    "    dec_pixel_centers = np.multiply(range(n_bins), binsize) + dec_zoom[0] + binsize/2.\n",
    "\n",
    "    return pixels, ra_pixel_centers, dec_pixel_centers\n"
   ]
  },
  {
   "cell_type": "code",
   "execution_count": 2,
   "metadata": {
    "collapsed": true
   },
   "outputs": [],
   "source": [
    "#This opened the file with the gps seconds and assigned them to a variable\n",
    "aug23_obsids_file = open('/astro/users/teagao/radio-eyes/Aug23_obsids.txt', 'r')\n",
    "#This read every name sequentially, took out white space, and put the file into an array called aug23\n",
    "aug23 = [line.split( ) for line in aug23_obsids_file.readlines()]\n",
    "\n",
    "#This is a general code to go through each fits file, and then compacted everything into a single numpy array\n",
    "for i in aug23:\n",
    "    filename = '/astro/users/teagao/Documents/Aug23_high_EoR0/' + i[0] + '_highEoR0.fits'\n",
    "    #header dater unit list- package from astropy to open file\n",
    "    hdu_list = fits.open(filename)\n",
    "    #pulls out actual data from hdu\n",
    "    data = hdu_list[1].data[0]\n",
    "    #id random interger\n",
    "    eye = data[0]\n",
    "    #declanation random interger\n",
    "    dec = data[1]\n",
    "    #right ascension of the component\n",
    "    ra = data[2]\n",
    "    #the flux density of the component woooo\n",
    "    flux = data[3]\n",
    "    #Given the array ra, execute the condition if an element is greater than 180. Reset that element to that \n",
    "    #element minus 360.\n",
    "    #This only works on numpy arrays\n",
    "    ra[ra>180] -= 360\n",
    "    #This loops through the elements of the first fits file and sets them equal to an overall variable\n",
    "    #Had to rename them because original variable names get overwritten\n",
    "\n",
    "    #for all else, it appends to the new variable to make a REALLY BIG ARRAY OF EVERYTHING EVER\n",
    "        #for all else, it appends to the new variable to make a REALLY BIG ARRAY OF EVERYTHING EVER\n",
    "    if aug23[0] == i:\n",
    "        ra_overall = ra\n",
    "        dec_overall = dec\n",
    "        eye_overall = eye\n",
    "        flux_overall = flux\n",
    "    else:\n",
    "        ra_overall = np.append(ra_overall, ra)\n",
    "        dec_overall = np.append(dec_overall, dec)\n",
    "        eye_overall = np.append(eye_overall, eye)\n",
    "        flux_overall = np.append(flux_overall, flux)"
   ]
  },
  {
   "cell_type": "code",
   "execution_count": 14,
   "metadata": {
    "collapsed": true
   },
   "outputs": [],
   "source": [
    "ra_zoom = [8.9, 9.1]\n",
    "dec_zoom = [-30.5, -30.3]\n",
    "n_bins = 150\n",
    "\n",
    "(pixels, ra_centers, dec_centers) = pixelate(ra_zoom, dec_zoom, n_bins, ra_overall, dec_overall, eye_overall, flux_overall)"
   ]
  },
  {
   "cell_type": "code",
   "execution_count": 15,
   "metadata": {
    "collapsed": true
   },
   "outputs": [],
   "source": [
    "obsnum = len(aug23) \n",
    "#for comparison pictures\n",
    "pixelsnorm = pixels / obsnum"
   ]
  },
  {
   "cell_type": "code",
   "execution_count": 16,
   "metadata": {
    "collapsed": false
   },
   "outputs": [
    {
     "name": "stderr",
     "output_type": "stream",
     "text": [
      "/astro/users/bmmorris/premap/miniconda3/lib/python3.5/site-packages/ipykernel/__main__.py:16: RuntimeWarning: divide by zero encountered in log\n"
     ]
    },
    {
     "data": {
      "image/png": "[encoded data removed]",
      "text/plain": [
       "<matplotlib.figure.Figure at 0x7f32a1cce4e0>"
      ]
     },
     "metadata": {},
     "output_type": "display_data"
    }
   ],
   "source": [
    "import matplotlib.pyplot as plt\n",
    "\n",
    "#this makes the thing bigger!!\n",
    "plt.figure(figsize=(10,10))\n",
    "\n",
    "#imshow is a type of plot that shows the image (duh)\n",
    "#took the log of the flux scale which made things happen\n",
    "#interpolation made the pixels not fuzzy\n",
    "#origin reoriented the y axis so it goes from 0 to 100 instead of 100 to 0\n",
    "#cmap changed the colorbar so that the colors are sequentially dark-light in relation to flux\n",
    "\n",
    "#(11/16/16) made new variable pixelsnorm, which is pixels divided by number of observations in aug23\n",
    "#Did this so that plots can be compared between observation days\n",
    "cmap = plt.cm.inferno\n",
    "cmap.set_bad('k')\n",
    "plt.imshow(np.transpose(np.log(pixelsnorm)), interpolation = \"nearest\", origin = \"lower\", cmap = cmap, \n",
    "           extent = [ra_centers[0], ra_centers[len(ra_centers)-1], \n",
    "           dec_centers[0], dec_centers[len(dec_centers)-1]])\n",
    "\n",
    "#the x and y axis labels are not accurate right now but that's okay :)\n",
    "plt.xlabel('RA (degrees)', \n",
    "           fontweight='bold', size=14)\n",
    "plt.ylabel('Declination (degrees)', \n",
    "           fontweight='bold', size=14)\n",
    "plt.title('Field: EoR0 at Frequency 182 MHz')\n",
    "\n",
    "plt.colorbar()\n",
    "plt.clim(-9,0)\n",
    "plt.grid()\n",
    "plt.show()"
   ]
  },
  {
   "cell_type": "code",
   "execution_count": 17,
   "metadata": {
    "collapsed": true
   },
   "outputs": [],
   "source": [
    "#find diff between high and lowband"
   ]
  },
  {
   "cell_type": "code",
   "execution_count": null,
   "metadata": {
    "collapsed": true
   },
   "outputs": [],
   "source": []
  }
 ],
 "metadata": {
  "kernelspec": {
   "display_name": "Python 3",
   "language": "python",
   "name": "python3"
  },
  "language_info": {
   "codemirror_mode": {
    "name": "ipython",
    "version": 3
   },
   "file_extension": ".py",
   "mimetype": "text/x-python",
   "name": "python",
   "nbconvert_exporter": "python",
   "pygments_lexer": "ipython3",
   "version": "3.5.2"
  }
 },
 "nbformat": 4,
 "nbformat_minor": 0
}
